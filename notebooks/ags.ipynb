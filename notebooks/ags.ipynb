{
 "cells": [
  {
   "cell_type": "code",
   "execution_count": null,
   "source": [
    "pip install python-ags4"
   ],
   "outputs": [],
   "metadata": {}
  }
 ],
 "metadata": {
  "orig_nbformat": 4,
  "language_info": {
   "name": "python",
   "version": "2.7.8"
  },
  "kernelspec": {
   "name": "python3",
   "display_name": "Python 2.7.8 32-bit"
  },
  "interpreter": {
   "hash": "48d14f86a56855c859e6d094127544ce895f2775974a337b1206e9b6cdcc9506"
  }
 },
 "nbformat": 4,
 "nbformat_minor": 2
}